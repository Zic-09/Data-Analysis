{
 "cells": [
  {
   "cell_type": "markdown",
   "metadata": {},
   "source": [
    "# READING FROM AND WRITING TO FILES USING PYTHON"
   ]
  },
  {
   "cell_type": "code",
   "execution_count": null,
   "metadata": {},
   "outputs": [],
   "source": [
    "# Working with CSV data files\n",
    "import urllib.request\n",
    "urllib.request.urlretrieve # the url where it needs to be downloaded from and the file name or path where we want it to download to)\n",
    "# To read a this file, we use a genfromtxt function(the function supports many arguement"
   ]
  },
  {
   "cell_type": "code",
   "execution_count": 1,
   "metadata": {},
   "outputs": [
    {
     "data": {
      "text/plain": [
       "<function _io.open(file, mode='r', buffering=-1, encoding=None, errors=None, newline=None, closefd=True, opener=None)>"
      ]
     },
     "execution_count": 1,
     "metadata": {},
     "output_type": "execute_result"
    }
   ],
   "source": [
    "# Interacting with the OS and Filesystem\n",
    "import os\n",
    "# We can check the current work directory using the os.getcwd function\n",
    "os.getcwd()\n",
    "# To get the list of files in a directory, use os.listdir. You pass an absolute or relative path as an arguement to the function.\n",
    "os.listdir(\".\") # relative path\n",
    "os.listdir(\"/\") # absolute path\n",
    "#help(os.listdir)\n",
    "\n",
    "# A new directory can be created by using os.makedirs. Let's create a new directory called \"data\"\n",
    "os.makedirs(\"./data\", exist_ok= True)\n",
    "\"data\" in os.listdir(\".\") # to check if the new file is in the new directory\n",
    "os.listdir(\"./data\") # its empty\n",
    "\n",
    "# You can download files into the new directory you just opened using:\n",
    "import urllib.request\n",
    "urllib.request.urlretrieve#(arguements)\n",
    "# To read the file can be done in different ways\n",
    "open#(name of the directory, mode=\"r\") There are differnt options available:\n",
    "# \"r\" for reading (default)\n",
    "# \"w\" for writing\n",
    "# \"x\" for creating a new file and open for writing and many more\n",
    "\n",
    "# To view we use the read() method\n",
    "# file_1contents = #file_1.read()\n",
    "# always learn to close your file after you are done reading in order to avoid slow down of system"
   ]
  }
 ],
 "metadata": {
  "kernelspec": {
   "display_name": "base",
   "language": "python",
   "name": "python3"
  },
  "language_info": {
   "codemirror_mode": {
    "name": "ipython",
    "version": 3
   },
   "file_extension": ".py",
   "mimetype": "text/x-python",
   "name": "python",
   "nbconvert_exporter": "python",
   "pygments_lexer": "ipython3",
   "version": "3.12.4"
  }
 },
 "nbformat": 4,
 "nbformat_minor": 2
}
