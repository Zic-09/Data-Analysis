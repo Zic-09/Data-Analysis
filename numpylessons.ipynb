{
 "cells": [
  {
   "cell_type": "markdown",
   "metadata": {},
   "source": [
    "# NUMPY LESSONS"
   ]
  },
  {
   "cell_type": "code",
   "execution_count": 2,
   "metadata": {},
   "outputs": [
    {
     "name": "stdout",
     "output_type": "stream",
     "text": [
      "[73 65 78]\n",
      "[12 15 18]\n",
      "<class 'numpy.ndarray'>\n",
      "<class 'numpy.ndarray'>\n",
      "15\n",
      "78\n",
      "[[12 13 17]\n",
      " [22 24 28]\n",
      " [10  9  5]\n",
      " [32 30 31]\n",
      " [ 1  5  3]]\n"
     ]
    },
    {
     "data": {
      "text/plain": [
       "dtype('int32')"
      ]
     },
     "execution_count": 2,
     "metadata": {},
     "output_type": "execute_result"
    }
   ],
   "source": [
    "import numpy as np # imports the numpy library\n",
    "\n",
    "kanto = np.array([73, 65, 78])\n",
    "print(kanto)\n",
    "w1 = 12\n",
    "w2 = 15\n",
    "w3 = 18\n",
    "weight = np.array([w1, w2, w3])\n",
    "print(weight)\n",
    "print(type(weight))\n",
    "print(type(kanto))\n",
    "print(weight[1])\n",
    "print(kanto[2])\n",
    "\n",
    "np.dot(kanto, weight)\n",
    "\n",
    "climate = np.array([[12, 13, 17],\n",
    "                 [22, 24, 28],\n",
    "                 [10, 9, 5],\n",
    "                 [32, 30, 31],\n",
    "                 [1, 5, 3]])\n",
    "print(climate)\n",
    "climate.dtype"
   ]
  },
  {
   "cell_type": "code",
   "execution_count": 3,
   "metadata": {},
   "outputs": [
    {
     "data": {
      "text/plain": [
       "array([183, 314,  81, 369,  42])"
      ]
     },
     "execution_count": 3,
     "metadata": {},
     "output_type": "execute_result"
    }
   ],
   "source": [
    "weight = np.array([1, 4, 7])\n",
    "np.matmul(climate, weight) # 2 dimensional matrix\n",
    "\n",
    "np.dot(climate, weight) # does the same thing as the matrix\n",
    "# help(np.dot)\n",
    "#help(np.var)"
   ]
  },
  {
   "cell_type": "code",
   "execution_count": 4,
   "metadata": {},
   "outputs": [
    {
     "data": {
      "text/plain": [
       "64.0909090909091"
      ]
     },
     "execution_count": 4,
     "metadata": {},
     "output_type": "execute_result"
    }
   ],
   "source": [
    "np.add(10, 12)\n",
    "np.subtract(50, 70)\n",
    "np.divide(40, 8)\n",
    "np.multiply(12, 12)\n",
    "\n",
    "x1 = np.arange(9.0).reshape((3, 3)) # arange gets a range of number 0-8 and puts them in a ndarray format.\n",
    "#print(x1) # reshape arranges them in a 3 rows by 3 columns 2-D array.\n",
    "x2 = np.arange(3.0)\n",
    "#print(x2)\n",
    "np.add(x1, x2)\n",
    "\n",
    "np.max([1, 3, 4, 8, 22, 34, 120, 29, 150, 234, 100])\n",
    "numb = [1, 3, 4, 8, 22, 34, 120, 29, 150, 234, 100]\n",
    "np.min(numb)\n",
    "np.mean(numb)\n",
    "np.median(numb)\n",
    "np.sum(numb)\n",
    "np.var(numb)\n",
    "np.std(numb)\n",
    "np.max(numb)\n",
    "np.average(numb)\n"
   ]
  },
  {
   "cell_type": "code",
   "execution_count": 7,
   "metadata": {},
   "outputs": [
    {
     "data": {
      "text/plain": [
       "array([ 3.,  6.,  9., 12., 15., 18., 21., 24., 27.])"
      ]
     },
     "execution_count": 7,
     "metadata": {},
     "output_type": "execute_result"
    }
   ],
   "source": [
    "# Arithmetic operations with numpy\n",
    "arr_1 = np.array([[1, 5, 4,], [8, 9, 2], [2, 10, 15]])\n",
    "#print(arr_1)\n",
    "arr_2 = np.array([[12, 14, 11], [0, 6, 9], [13, 20, 10]])\n",
    "arr_1 + arr_2\n",
    "arr_2 + 5\n",
    "arr_1 * 2\n",
    "arr_2 / 2\n",
    "arr_2 % 2\n",
    "arr_2 // 2\n",
    "arr_1 - 5\n",
    "arr_1.shape\n",
    "arr_3 = np.array([5, 8, 4])\n",
    "arr_3.shape\n",
    "arr_1 + arr_3 # broadcasting with numpy\n",
    "# Comparison operators with numpy\n",
    "arr_1 == arr_2\n",
    "arr_1 > arr_2\n",
    "arr_1 < arr_2\n",
    "arr_3 == arr_1\n",
    "arr_2 != arr_3\n",
    "(arr_1 > arr_3).sum() # To find the count of numbers that match the comparison operator, we use sum\n",
    "arr_1[1, 1] # Picking arrays by their index\n",
    "arr_4 = np.array([[[13, 14, 15],\n",
    "                   [11, 2, 4]],\n",
    "                   [[10, 11, 5],\n",
    "                    [2, 5, 8]],\n",
    "                    [[12, 20, 18],\n",
    "                     [1, 5, 9]]])\n",
    "arr_4.shape\n",
    "# Array using ranges\n",
    "arr_4[1:, 0:1, :2]\n",
    "arr_4[1:, 1, 2] # mixing index anf range\n",
    "# Other ways to create arrays\n",
    "np.zeros((3,3))\n",
    "np.ones((4,3))\n",
    "np.zeros([5,4])\n",
    "np.eye(4) # Identity matrix\n",
    "np.random.rand(5) # Random vector\n",
    "np.random.randn(3,4) # Random matrix\n",
    "np.full([3,3],24) # creating a fixed value\n",
    "np.arange(10, 74, 2).shape\n",
    "np.arange(10,74,2).reshape(4,8)\n",
    "np.linspace(3, 27, 9)"
   ]
  }
 ],
 "metadata": {
  "kernelspec": {
   "display_name": "base",
   "language": "python",
   "name": "python3"
  },
  "language_info": {
   "codemirror_mode": {
    "name": "ipython",
    "version": 3
   },
   "file_extension": ".py",
   "mimetype": "text/x-python",
   "name": "python",
   "nbconvert_exporter": "python",
   "pygments_lexer": "ipython3",
   "version": "3.12.4"
  }
 },
 "nbformat": 4,
 "nbformat_minor": 2
}
